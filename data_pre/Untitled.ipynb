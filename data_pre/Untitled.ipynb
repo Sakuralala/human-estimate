{
 "cells": [
  {
   "cell_type": "code",
   "execution_count": 6,
   "metadata": {},
   "outputs": [
    {
     "name": "stdout",
     "output_type": "stream",
     "text": [
      "[[[ 0  1]\n",
      "  [ 2  3]]\n",
      "\n",
      " [[ 4  5]\n",
      "  [ 6  7]]\n",
      "\n",
      " [[ 8  9]\n",
      "  [10 11]]]\n",
      "(array([0, 0], dtype=int64), array([0, 1], dtype=int64))\n",
      "[[0 1]\n",
      " [2 3]]\n",
      "[[[ 0  0]\n",
      "  [ 0  0]]\n",
      "\n",
      " [[ 4  5]\n",
      "  [ 6  7]]\n",
      "\n",
      " [[ 8  9]\n",
      "  [10 11]]]\n"
     ]
    }
   ],
   "source": [
    "import numpy as np\n",
    "\n",
    "tmp=np.arange(12).reshape((3,2,2))\n",
    "print(tmp)\n",
    "indices=np.where(tmp[...,-1]<4)\n",
    "print(indices)\n",
    "print(tmp[indices[0],indices[1]])\n",
    "tmp[indices[0],indices[1]]=0\n",
    "print(tmp)"
   ]
  }
 ],
 "metadata": {
  "kernelspec": {
   "display_name": "Python 3",
   "language": "python",
   "name": "python3"
  },
  "language_info": {
   "codemirror_mode": {
    "name": "ipython",
    "version": 3
   },
   "file_extension": ".py",
   "mimetype": "text/x-python",
   "name": "python",
   "nbconvert_exporter": "python",
   "pygments_lexer": "ipython3",
   "version": "3.6.4"
  }
 },
 "nbformat": 4,
 "nbformat_minor": 2
}
