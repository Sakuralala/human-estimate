{
 "cells": [
  {
   "cell_type": "code",
   "execution_count": 2,
   "metadata": {},
   "outputs": [
    {
     "name": "stdout",
     "output_type": "stream",
     "text": [
      "loading annotations into memory...\n",
      "Done (t=0.99s)\n",
      "creating index...\n",
      "index created!\n"
     ]
    }
   ],
   "source": [
    "import numpy as np\n",
    "import json\n",
    "from pycocotools.coco import COCO\n",
    "\n",
    "mpii=COCO('mpii_train.json')\n"
   ]
  },
  {
   "cell_type": "code",
   "execution_count": 12,
   "metadata": {},
   "outputs": [
    {
     "name": "stdout",
     "output_type": "stream",
     "text": [
      "7\n",
      "{'id': 12, 'image_id': 7, 'bbox': [22.865108574061196, 84.8651085740612, 559.1348914259388, 621.1348914259388], 'keypoints': [[301.0, 461.0, 1.0], [305.0, 375.0, 1.0], [201.0, 340.0, 1.0], [294.0, 342.0, 0.0], [335.0, 370.0, 0.0], [331.0, 455.0, 1.0], [248.0, 341.0, 0.0], [279.0, 263.0, 1.0], [277.021, 268.7786, 0.0], [305.979, 184.2214, 0.0], [328.0, 354.0, 1.0], [260.0, 335.0, 1.0], [244.0, 261.0, 1.0], [314.0, 264.0, 1.0], [327.0, 320.0, 1.0], [362.0, 346.0, 0.0]], 'num_keypoints': 14}\n",
      "{'id': 13, 'image_id': 7, 'bbox': [220.46900787378115, 125.46900787378115, 720.0, 628.5309921262188], 'keypoints': [[515.0, 512.0, 1.0], [514.0, 420.0, 1.0], [406.0, 388.0, 1.0], [392.0, 360.0, 0.0], [493.0, 434.0, 0.0], [518.0, 504.0, 1.0], [399.0, 374.0, 0.0], [498.0, 317.0, 1.0], [504.5953, 315.1758, 0.0], [585.4047, 292.8242, 0.0], [628.0, 426.0, 1.0], [551.0, 398.0, 1.0], [501.0, 351.0, 1.0], [495.0, 282.0, 1.0], [425.0, 301.0, 1.0], [483.0, 334.0, 1.0]], 'num_keypoints': 14}\n"
     ]
    }
   ],
   "source": [
    "img_ids=mpii.getImgIds()\n",
    "ann_ids=mpii.getAnnIds(img_ids[2])\n",
    "ann_infos=mpii.loadAnns(ann_ids)\n",
    "print(img_ids[2])\n",
    "for ann_info in ann_infos:\n",
    "    print(ann_info)"
   ]
  }
 ],
 "metadata": {
  "kernelspec": {
   "display_name": "Python 3",
   "language": "python",
   "name": "python3"
  },
  "language_info": {
   "codemirror_mode": {
    "name": "ipython",
    "version": 3
   },
   "file_extension": ".py",
   "mimetype": "text/x-python",
   "name": "python",
   "nbconvert_exporter": "python",
   "pygments_lexer": "ipython3",
   "version": "3.6.4"
  }
 },
 "nbformat": 4,
 "nbformat_minor": 2
}
